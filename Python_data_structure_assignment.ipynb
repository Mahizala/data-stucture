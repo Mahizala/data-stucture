{
  "nbformat": 4,
  "nbformat_minor": 0,
  "metadata": {
    "colab": {
      "provenance": []
    },
    "kernelspec": {
      "name": "python3",
      "display_name": "Python 3"
    },
    "language_info": {
      "name": "python"
    }
  },
  "cells": [
    {
      "cell_type": "markdown",
      "source": [
        "# **Python data structure- assignment**"
      ],
      "metadata": {
        "id": "5iB_TIZ76EI-"
      }
    },
    {
      "cell_type": "markdown",
      "source": [
        "**Theory questions-**\n",
        "\n"
      ],
      "metadata": {
        "id": "8Da4jtb86THG"
      }
    },
    {
      "cell_type": "markdown",
      "source": [
        "**Q1.**What are the data structures and why are they important?\n",
        "\n",
        "-->Data Structures are a way of organizing data so that it can be accessed more efficiently depending upon the situation. Data Structures are fundamentals of any programming language around which a program is built. Python helps to learn the fundamental of these data structures in a simpler way as compared to other programming languages.Each data structure provides a particular way of organizing data so it can be accessed efficiently."
      ],
      "metadata": {
        "id": "SljYdbLFd3n1"
      }
    },
    {
      "cell_type": "markdown",
      "source": [
        "**Q2.**Explain the difference between mutable and immutable data types with examples.\n",
        "\n",
        "-->Data types in Python are categorized into mutable and immutable data types. Mutable data types are those whose values can be changed, whereas immutable data types are ones in which the values can’t be changed.\n",
        "\n",
        "Examples:\n",
        "Tuples: Immutable, meaning that once a tuple has been created, you can't replace any of its elements with a new value\n",
        "Lists: Mutable, meaning that you can always change a list's elements"
      ],
      "metadata": {
        "id": "yMpZwanvfG8S"
      }
    },
    {
      "cell_type": "markdown",
      "source": [
        "**Q3.**What are the main differences between lists and tuples in python?\n",
        "\n",
        "-->The key difference between tuples and lists is that while tuples are immutable objects, lists are mutable. This means tuples cannot be changed while lists can be modified. Tuples are also more memory efficient than the lists. When it comes to time efficiency, tuples have a slight advantage over lists especially when we consider lookup value. If you have data that shouldn’t change, you should choose tuple data type over lists.\n"
      ],
      "metadata": {
        "id": "Y5tJP0bxhdJ3"
      }
    },
    {
      "cell_type": "markdown",
      "source": [
        "**Q4.**describe how dictionaries store data?\n",
        "\n",
        "-->Dictionaries are used to store data values in key:value pairs. A dictionary is a collection which is ordered*, changeable and do not allow duplicates. As of Python version 3.7, dictionaries are ordered. In Python 3.6 and earlier, dictionaries are unordered."
      ],
      "metadata": {
        "id": "pJ-fCUs1iSH7"
      }
    },
    {
      "cell_type": "markdown",
      "source": [
        " **Q5.**Why might you use set instead of list in python?\n",
        "\n",
        " --> This is because sets cannot have multiple occurrences of the same element, it makes sets highly useful to efficiently remove duplicate values from a list or tuple and to perform common math operations like unions and intersections."
      ],
      "metadata": {
        "id": "XBM8otTWjDt3"
      }
    },
    {
      "cell_type": "markdown",
      "source": [
        "**Q6.**What is a string in python and how is it different from a list?\n",
        "\n",
        "-->n Python, strings are used for representing textual data. A string is a sequence of characters enclosed in either single quotes ('') or double quotes (“”). Lists are ordered collections of items enclosed in square brackets [ ].Strings are immutable, meaning they cannot be changed once created, while lists are mutable and can be modified as needed."
      ],
      "metadata": {
        "id": "urFQQnenjyVN"
      }
    },
    {
      "cell_type": "markdown",
      "source": [
        "**Q7.**How do tuples ensure data integrity in python?\n",
        "\n",
        "-->Tuples are immutable to ensure that their contents remain constant throughout their lifecycle, guaranteeing data integrity and reliability. This immutability allows tuples to be used as keys in dictionaries and elements in sets, as they can be hashed."
      ],
      "metadata": {
        "id": "dE60gaFRkz9v"
      }
    },
    {
      "cell_type": "markdown",
      "source": [
        "**Q8.** What is hash table and how does it relate to dictionaries in python?\n",
        "\n",
        "-->In Python, a dictionary is a data type that implements a hash table. A hash table is a data structure that stores key-value pairs in an array format. The keys in a dictionary are hashable, meaning they are generated by a hash function that produces a unique result for each key."
      ],
      "metadata": {
        "id": "oCAZrDjClnjK"
      }
    },
    {
      "cell_type": "markdown",
      "source": [
        "**Q9.**Can lists contain different data type in python?\n",
        "\n",
        "-->Yes, lists can contain different data types infact You can also mix objects of different types within the same list, although list elements often share the same type. Hence, a list can contain heterogeneous data types."
      ],
      "metadata": {
        "id": "pKSv1rxrmOKU"
      }
    },
    {
      "cell_type": "markdown",
      "source": [
        "**Q10.**Explain why strings are immutable in python?\n",
        "\n",
        "-->Strings in Python are “immutable” which means they can not be changed after they are created.In Python, strings are made immutable so that programmers cannot alter the contents of the object (even by mistake). This avoids unnecessary bugs."
      ],
      "metadata": {
        "id": "obdfQkqgn28o"
      }
    },
    {
      "cell_type": "markdown",
      "source": [
        "**Q11.**What advantages does dicsionaries offer over lists in certain tasks?\n",
        "\n",
        "-->Dicsionaries have several advantages over lists:\n",
        "\n",
        "Faster data retrieval: Dictionaries are faster than lists because they use hashing, which allows for faster data retrieval.\n",
        "\n",
        "Easier to read code: Dictionaries make code easier to read when generating key:value pairs.\n",
        "\n",
        "More flexible: Dictionaries can store any type of data as both the key and the value.\n",
        "\n",
        "Better for complex data: Dictionaries are well-suited for storing complex data structures like graphs and databases."
      ],
      "metadata": {
        "id": "U8KLCWVLpGNW"
      }
    },
    {
      "cell_type": "markdown",
      "source": [
        "**Q12.**Describe a scenerio where using a tuple would be prefrable over list.\n",
        "\n",
        "-->Using a tuple can be more effective than using a list if you have a huge collection of data that you need to store, retrieve, and use regularly and that data does not need to be altered."
      ],
      "metadata": {
        "id": "l70_mot2p3FS"
      }
    },
    {
      "cell_type": "markdown",
      "source": [
        "**Q13.**How does sets handle duplicate values in python?\n",
        "\n",
        "-->Objects in a set do not duplicate and shows duplicate values.Thus, items in a set do not appear in a stipulated manner, i.e., they can appear in a different order every time it is used. Due to this, set items cannot be referred to by key or index."
      ],
      "metadata": {
        "id": "LOBNgfDeq7Gj"
      }
    },
    {
      "cell_type": "markdown",
      "source": [
        "**Q14.**How does the \"in\" keyword works in lists and dictionaries differently?\n",
        "\n",
        "-->There are two uses of the in Python keyword. Firstly, it can check if a sequence (string, range, list) contains a particular value. Secondly, it can also serve as a sequence iteration in a For loop.\n",
        "\n",
        "When using the \"in\" keyword with a list, it checks if an element exists within the list. The operation checks for the presence of the value itself (not the index or key).When using the \"in\" keyword with a dictionary, it checks if a key exists in the dictionary. It does not check for values unless explicitly instructed."
      ],
      "metadata": {
        "id": "g8fcd1GRrlqK"
      }
    },
    {
      "cell_type": "markdown",
      "source": [
        "**Q15.**Can you modify the elements of a tuple? explain why or why not.\n",
        "\n",
        "-->No, you cannot modify the elements of a tuple in Python because tuples are \"immutable,\" meaning once created, their elements cannot be changed, added, or removed; this is a key distinction between tuples and lists, which are mutable and allow for element modification."
      ],
      "metadata": {
        "id": "py3Pb7j5tmi1"
      }
    },
    {
      "cell_type": "markdown",
      "source": [
        "**Q16.**What is nested dictionary and give an example of its use case.\n",
        "\n",
        "-->A nested dictionary is a dictionary that is stored within another dictionary. It's a way to store a collection of dictionaries in one place.\n",
        "Use case: Employee records- Organize employees by department, with each employee's details in a nested dictionary."
      ],
      "metadata": {
        "id": "LnTm7SzjuI74"
      }
    },
    {
      "cell_type": "markdown",
      "source": [
        "**Q17.**Describe the time complexity of accessing elements in a dictionary.\n",
        "\n",
        "-->The time complexity of accessing an element in a Python dictionary is \\(O(1)\\), which means it's constant time. This is because dictionaries use a hash table internally, which allows for constant time lookups"
      ],
      "metadata": {
        "id": "5SvFnA8avERs"
      }
    },
    {
      "cell_type": "markdown",
      "source": [
        "**Q18.**In what situations are lists preffered over dictionaries?\n",
        "\n",
        "-->Lists are preferred over dictionaries in situations where:\n",
        "\n",
        "1. Ordered Data: When the order of the elements matters, a list is ideal because\n",
        "it preserves the order of items.\n",
        "\n",
        "2. Index-Based Access: When you need to access elements by their index or position, lists are the right choice. You can directly access elements using their index (e.g., list[0] for the first item), which is more efficient for ordered data.\n",
        "\n",
        "3. Iterating in Sequence: If you need to process items in a sequential manner or perform operations like sorting, filtering, or slicing, lists are often preferred due to their simplicity\n",
        "\n",
        "4. Homogeneous Data: Lists are ideal for storing collections of similar items. While dictionaries can hold key-value pairs with diverse data types."
      ],
      "metadata": {
        "id": "-4e8kRf64F11"
      }
    },
    {
      "cell_type": "markdown",
      "source": [
        "**Q19.**Why are dictionaries unordred and, how does it affect data retrieval?\n",
        "\n",
        "-->Dictionaries in Python are unordered because they are optimized for fast lookups using hashing. This makes them efficient but means the order of elements is not guaranteed. You can still access values efficiently using their keys, and ordered dictionaries are available if order is crucial.\n"
      ],
      "metadata": {
        "id": "SGc1NlC86EMZ"
      }
    },
    {
      "cell_type": "markdown",
      "source": [
        "**Q20.**Explain difference between list and dictionary in terms of data retrieval.\n",
        "\n",
        "-->Lists retrieve data by their position (index), while dictionaries retrieve data by their associated keys. This makes dictionaries significantly faster for lookups, especially in large datasets.\n"
      ],
      "metadata": {
        "id": "-VKWJ4FQ64hY"
      }
    },
    {
      "cell_type": "markdown",
      "source": [
        "**Practical questions-**"
      ],
      "metadata": {
        "id": "5fWfPbA67gDB"
      }
    },
    {
      "cell_type": "markdown",
      "source": [
        "**Q1.**Write code to create string with your name and print it."
      ],
      "metadata": {
        "id": "R-AOxpb87oWm"
      }
    },
    {
      "cell_type": "code",
      "source": [
        "Name=\"Mahi\"\n",
        "print(Name)"
      ],
      "metadata": {
        "colab": {
          "base_uri": "https://localhost:8080/"
        },
        "id": "-AtRPNCp73MP",
        "outputId": "2e7db962-b4e1-4e79-edc9-4226830f3d1f"
      },
      "execution_count": 1,
      "outputs": [
        {
          "output_type": "stream",
          "name": "stdout",
          "text": [
            "Mahi\n"
          ]
        }
      ]
    },
    {
      "cell_type": "markdown",
      "source": [
        "**Q2.**Write a code to find the length of the string \"Hello World\"."
      ],
      "metadata": {
        "id": "VQAMKNRR8EM1"
      }
    },
    {
      "cell_type": "code",
      "source": [
        "len(\"Hello World\")"
      ],
      "metadata": {
        "colab": {
          "base_uri": "https://localhost:8080/"
        },
        "id": "ZBoxN-oz8W6d",
        "outputId": "1856494a-db90-4687-d267-d494b0ae273a"
      },
      "execution_count": 3,
      "outputs": [
        {
          "output_type": "execute_result",
          "data": {
            "text/plain": [
              "11"
            ]
          },
          "metadata": {},
          "execution_count": 3
        }
      ]
    },
    {
      "cell_type": "markdown",
      "source": [
        "**Q3.**Write a code to slice the first 3 characters from the string \"Python Programming\"."
      ],
      "metadata": {
        "id": "uaswN9_W8k0p"
      }
    },
    {
      "cell_type": "code",
      "source": [
        "sliceline=\"Python Programming\"\n",
        "sliceline[0:3]"
      ],
      "metadata": {
        "colab": {
          "base_uri": "https://localhost:8080/",
          "height": 36
        },
        "id": "Trse_YJp8_TJ",
        "outputId": "72bf6f7c-a3a6-47c9-95e4-23279570a41a"
      },
      "execution_count": 4,
      "outputs": [
        {
          "output_type": "execute_result",
          "data": {
            "text/plain": [
              "'Pyt'"
            ],
            "application/vnd.google.colaboratory.intrinsic+json": {
              "type": "string"
            }
          },
          "metadata": {},
          "execution_count": 4
        }
      ]
    },
    {
      "cell_type": "markdown",
      "source": [
        "**Q4.**Write a code to convert the string \"hello\" to uppercase."
      ],
      "metadata": {
        "id": "8Fg8Kvhq9w_Y"
      }
    },
    {
      "cell_type": "code",
      "source": [
        "string=\"hello\"\n",
        "string.upper()"
      ],
      "metadata": {
        "colab": {
          "base_uri": "https://localhost:8080/",
          "height": 36
        },
        "id": "AcabyFys-AiV",
        "outputId": "673a3210-a01c-48dc-9fb5-7e103c9b8de3"
      },
      "execution_count": 5,
      "outputs": [
        {
          "output_type": "execute_result",
          "data": {
            "text/plain": [
              "'HELLO'"
            ],
            "application/vnd.google.colaboratory.intrinsic+json": {
              "type": "string"
            }
          },
          "metadata": {},
          "execution_count": 5
        }
      ]
    },
    {
      "cell_type": "markdown",
      "source": [
        "**Q5.**Write the code to replace the word \"apple\" and \"orange\" in the string \"I like apple\"."
      ],
      "metadata": {
        "id": "TUKv8jtd--0i"
      }
    },
    {
      "cell_type": "code",
      "source": [
        "\"I like apple\".replace(\"apple\",\"orange\")"
      ],
      "metadata": {
        "colab": {
          "base_uri": "https://localhost:8080/",
          "height": 36
        },
        "id": "PpwCM5NI_aT8",
        "outputId": "c01c0bf4-5cab-4264-eda4-9dfc2e5810e2"
      },
      "execution_count": 6,
      "outputs": [
        {
          "output_type": "execute_result",
          "data": {
            "text/plain": [
              "'I like orange'"
            ],
            "application/vnd.google.colaboratory.intrinsic+json": {
              "type": "string"
            }
          },
          "metadata": {},
          "execution_count": 6
        }
      ]
    },
    {
      "cell_type": "markdown",
      "source": [
        "**Q6.**Write a code to create list with numbers 1 to 5 and print it."
      ],
      "metadata": {
        "id": "DIxcuuxE_i_m"
      }
    },
    {
      "cell_type": "code",
      "source": [
        "numbers=[1,2,3,4,5]\n",
        "print(numbers)"
      ],
      "metadata": {
        "colab": {
          "base_uri": "https://localhost:8080/"
        },
        "id": "tFW9wa_V_iga",
        "outputId": "6f9bf9c8-4b7f-426b-b598-b12a204d3522"
      },
      "execution_count": 7,
      "outputs": [
        {
          "output_type": "stream",
          "name": "stdout",
          "text": [
            "[1, 2, 3, 4, 5]\n"
          ]
        }
      ]
    },
    {
      "cell_type": "markdown",
      "source": [
        "**Q7.**Write a code to append the number 10 to the list [1,2,3,4]."
      ],
      "metadata": {
        "id": "oWQ2stsR_z6Z"
      }
    },
    {
      "cell_type": "code",
      "source": [
        "list=[1,2,3,4]\n",
        "list.append(10)\n",
        "print(list)"
      ],
      "metadata": {
        "colab": {
          "base_uri": "https://localhost:8080/"
        },
        "id": "Mlt68YpFAIG_",
        "outputId": "bfc9c0ea-c00e-4060-9571-8baa8c905ea0"
      },
      "execution_count": 8,
      "outputs": [
        {
          "output_type": "stream",
          "name": "stdout",
          "text": [
            "[1, 2, 3, 4, 10]\n"
          ]
        }
      ]
    },
    {
      "cell_type": "markdown",
      "source": [
        "**Q8.**Write a code to remove the number 3 from the list [1,2,3,4,5,]."
      ],
      "metadata": {
        "id": "L_6Zc3soAL_a"
      }
    },
    {
      "cell_type": "code",
      "source": [
        "list2=[1,2,3,4,5]\n",
        "list2.remove(3)\n",
        "print(list2)"
      ],
      "metadata": {
        "colab": {
          "base_uri": "https://localhost:8080/"
        },
        "id": "mFvd6rMsAZ5_",
        "outputId": "05bd126e-d929-4fc2-da65-32a65490d87f"
      },
      "execution_count": 9,
      "outputs": [
        {
          "output_type": "stream",
          "name": "stdout",
          "text": [
            "[1, 2, 4, 5]\n"
          ]
        }
      ]
    },
    {
      "cell_type": "markdown",
      "source": [
        "**Q9.**Write a code to access the second element in the list [\"a\",\"b\",\"c\",\"d']"
      ],
      "metadata": {
        "id": "k23b6zYfAmF1"
      }
    },
    {
      "cell_type": "code",
      "source": [
        "list3=[\"a\",\"b\",\"c\",\"d\"]\n",
        "list3[1]"
      ],
      "metadata": {
        "colab": {
          "base_uri": "https://localhost:8080/",
          "height": 36
        },
        "id": "Upw-xMUWA_IX",
        "outputId": "3fa1e31f-7a13-4efa-ac6f-a838b91e2d67"
      },
      "execution_count": 11,
      "outputs": [
        {
          "output_type": "execute_result",
          "data": {
            "text/plain": [
              "'b'"
            ],
            "application/vnd.google.colaboratory.intrinsic+json": {
              "type": "string"
            }
          },
          "metadata": {},
          "execution_count": 11
        }
      ]
    },
    {
      "cell_type": "markdown",
      "source": [
        "**Q10.**Write a code to reverse the list [10,20,30,40,50]."
      ],
      "metadata": {
        "id": "hGBwues0BhDX"
      }
    },
    {
      "cell_type": "code",
      "source": [
        "list4=[10,20,30,40,50]\n",
        "list4.reverse()\n",
        "print(list4)"
      ],
      "metadata": {
        "colab": {
          "base_uri": "https://localhost:8080/"
        },
        "id": "-TqTEF3OBumD",
        "outputId": "f49dbae8-2622-4e8e-95a9-399eb9e3f80d"
      },
      "execution_count": 12,
      "outputs": [
        {
          "output_type": "stream",
          "name": "stdout",
          "text": [
            "[50, 40, 30, 20, 10]\n"
          ]
        }
      ]
    },
    {
      "cell_type": "markdown",
      "source": [
        "**Q11.**Write a code to create tuple with the elements 10,20,30 and print it."
      ],
      "metadata": {
        "id": "THJcQhF4B2bk"
      }
    },
    {
      "cell_type": "code",
      "source": [
        "tuple1=(10,20,30)\n",
        "print(tuple1)"
      ],
      "metadata": {
        "colab": {
          "base_uri": "https://localhost:8080/"
        },
        "id": "Nx-hTqgyCgvC",
        "outputId": "6987eba3-8014-4ab3-f7f8-5d5fdf3b8323"
      },
      "execution_count": 13,
      "outputs": [
        {
          "output_type": "stream",
          "name": "stdout",
          "text": [
            "(10, 20, 30)\n"
          ]
        }
      ]
    },
    {
      "cell_type": "markdown",
      "source": [
        "**Q12.**Write a code to access the first element of the tuple (\"apple\",\"banana\",'cherry\")."
      ],
      "metadata": {
        "id": "VKODsqe2CtcQ"
      }
    },
    {
      "cell_type": "code",
      "source": [
        "tuple2=(\"apple\",\"banana\",'cherry')\n",
        "tuple2[0]"
      ],
      "metadata": {
        "colab": {
          "base_uri": "https://localhost:8080/",
          "height": 36
        },
        "outputId": "0102c3ff-0885-4b6e-d8fb-f7f411841062",
        "id": "PR0YL2hHHqgy"
      },
      "execution_count": null,
      "outputs": [
        {
          "output_type": "execute_result",
          "data": {
            "text/plain": [
              "'apple'"
            ],
            "application/vnd.google.colaboratory.intrinsic+json": {
              "type": "string"
            }
          },
          "metadata": {},
          "execution_count": 14
        }
      ]
    },
    {
      "cell_type": "markdown",
      "source": [
        "**Q13.**Write a code to count how many times the number 2 appears in the tuple(1,2,3,2,4,2)."
      ],
      "metadata": {
        "id": "acD3GEuJDPG-"
      }
    },
    {
      "cell_type": "code",
      "source": [
        "tuple3=(1,2,3,2,4,2)\n",
        "tuple3.count(2)"
      ],
      "metadata": {
        "colab": {
          "base_uri": "https://localhost:8080/"
        },
        "id": "jWJQsRg_DutD",
        "outputId": "aaf6c6c7-fe73-49b6-8643-b43eda124bff"
      },
      "execution_count": 15,
      "outputs": [
        {
          "output_type": "execute_result",
          "data": {
            "text/plain": [
              "3"
            ]
          },
          "metadata": {},
          "execution_count": 15
        }
      ]
    },
    {
      "cell_type": "markdown",
      "source": [
        "**Q14.**Write a code to find the index of the element \"cat\" in the tuple ('dog','cat','rabbit')."
      ],
      "metadata": {
        "id": "epReGI9lD5a0"
      }
    },
    {
      "cell_type": "code",
      "source": [
        "tuple4=('dog','cat','rabbit')\n",
        "tuple4.index('cat')"
      ],
      "metadata": {
        "colab": {
          "base_uri": "https://localhost:8080/"
        },
        "id": "d90zu4s-EWgQ",
        "outputId": "d824bcc0-c894-4d5a-afd9-6b1d372fb2ff"
      },
      "execution_count": 17,
      "outputs": [
        {
          "output_type": "execute_result",
          "data": {
            "text/plain": [
              "1"
            ]
          },
          "metadata": {},
          "execution_count": 17
        }
      ]
    },
    {
      "cell_type": "markdown",
      "source": [
        "**Q15.**Write a code to check if the element \"banana\" is in the tuple ('apple','orange','banana')."
      ],
      "metadata": {
        "id": "b76C9h9UEws8"
      }
    },
    {
      "cell_type": "code",
      "source": [
        "tuple5=('apple','orange','banana')\n",
        "'banana' in tuple5"
      ],
      "metadata": {
        "colab": {
          "base_uri": "https://localhost:8080/"
        },
        "id": "h_34U5vIFUrM",
        "outputId": "00fd6ed5-0be7-4edc-9455-b7b13d3be517"
      },
      "execution_count": 18,
      "outputs": [
        {
          "output_type": "execute_result",
          "data": {
            "text/plain": [
              "True"
            ]
          },
          "metadata": {},
          "execution_count": 18
        }
      ]
    },
    {
      "cell_type": "markdown",
      "source": [
        "**Q16.**Write a code to create a set with element 1,2,3,4,5 and print it."
      ],
      "metadata": {
        "id": "4R2O2rogFbJz"
      }
    },
    {
      "cell_type": "code",
      "source": [
        "set1={1,2,3,4,5}\n",
        "print(set1)"
      ],
      "metadata": {
        "colab": {
          "base_uri": "https://localhost:8080/"
        },
        "id": "ZqJDCE9DF_K3",
        "outputId": "34dc79de-91bb-44b3-a4f4-763fb20fb882"
      },
      "execution_count": 19,
      "outputs": [
        {
          "output_type": "stream",
          "name": "stdout",
          "text": [
            "{1, 2, 3, 4, 5}\n"
          ]
        }
      ]
    },
    {
      "cell_type": "markdown",
      "source": [
        "**Q17.**Write a code to add the element 6 to the set{1,2,3,4}."
      ],
      "metadata": {
        "id": "1F0vq_UZGIlu"
      }
    },
    {
      "cell_type": "code",
      "source": [
        "set2={1,2,3,4,}\n",
        "print(set2)\n",
        "set2.add(6)\n",
        "print(set2)"
      ],
      "metadata": {
        "colab": {
          "base_uri": "https://localhost:8080/"
        },
        "id": "AG4i5RaTGV1S",
        "outputId": "89393018-5571-4eea-cbe3-015a5c9c2d13"
      },
      "execution_count": 20,
      "outputs": [
        {
          "output_type": "stream",
          "name": "stdout",
          "text": [
            "{1, 2, 3, 4}\n",
            "{1, 2, 3, 4, 6}\n"
          ]
        }
      ]
    },
    {
      "cell_type": "markdown",
      "source": [
        "**Q18.**Write a code to create a tuple with thw element 10,20,30 and print it."
      ],
      "metadata": {
        "id": "CUZqyb4ZGj8p"
      }
    },
    {
      "cell_type": "code",
      "source": [
        "tuple1=(10,20,30)\n",
        "print(tuple1)"
      ],
      "metadata": {
        "colab": {
          "base_uri": "https://localhost:8080/"
        },
        "id": "NsbC-P6zGyjR",
        "outputId": "dcd1f584-9999-42a3-f343-aaeefe216244"
      },
      "execution_count": 22,
      "outputs": [
        {
          "output_type": "stream",
          "name": "stdout",
          "text": [
            "(10, 20, 30)\n"
          ]
        }
      ]
    },
    {
      "cell_type": "markdown",
      "source": [
        "**Q19.**Write a code to access the first element of the tuple (\"apple\",\"banana\",'cherry\")."
      ],
      "metadata": {
        "id": "RV-fMz3hHXZ7"
      }
    },
    {
      "cell_type": "code",
      "source": [
        "tuple2=(\"apple\",\"banana\",'cherry')\n",
        "tuple2[0]"
      ],
      "metadata": {
        "colab": {
          "base_uri": "https://localhost:8080/",
          "height": 36
        },
        "outputId": "0102c3ff-0885-4b6e-d8fb-f7f411841062",
        "id": "IJIYrhwwHyzC"
      },
      "execution_count": null,
      "outputs": [
        {
          "output_type": "execute_result",
          "data": {
            "text/plain": [
              "'apple'"
            ],
            "application/vnd.google.colaboratory.intrinsic+json": {
              "type": "string"
            }
          },
          "metadata": {},
          "execution_count": 14
        }
      ]
    },
    {
      "cell_type": "markdown",
      "source": [
        "**Q20.**Write a code to count how many times the number 2 appears in the tuple(1,2,3,2,4,2)."
      ],
      "metadata": {
        "id": "Mh7yugSnH8eC"
      }
    },
    {
      "cell_type": "code",
      "source": [
        "tuple3=(1,2,3,2,4,2)\n",
        "tuple3.count(2)"
      ],
      "metadata": {
        "colab": {
          "base_uri": "https://localhost:8080/"
        },
        "outputId": "aaf6c6c7-fe73-49b6-8643-b43eda124bff",
        "id": "_0dS4sJkIGOj"
      },
      "execution_count": null,
      "outputs": [
        {
          "output_type": "execute_result",
          "data": {
            "text/plain": [
              "3"
            ]
          },
          "metadata": {},
          "execution_count": 15
        }
      ]
    },
    {
      "cell_type": "markdown",
      "source": [
        "**Q21.**Write a code to find the index of the element \"cat\" in the tuple ('dog','cat','rabbit')."
      ],
      "metadata": {
        "id": "VLgSvmz8INVq"
      }
    },
    {
      "cell_type": "code",
      "source": [
        "tuple4=('dog','cat','rabbit')\n",
        "tuple4.index('cat')"
      ],
      "metadata": {
        "colab": {
          "base_uri": "https://localhost:8080/"
        },
        "outputId": "d824bcc0-c894-4d5a-afd9-6b1d372fb2ff",
        "id": "GaAwbgWyITuS"
      },
      "execution_count": null,
      "outputs": [
        {
          "output_type": "execute_result",
          "data": {
            "text/plain": [
              "1"
            ]
          },
          "metadata": {},
          "execution_count": 17
        }
      ]
    },
    {
      "cell_type": "markdown",
      "source": [
        "**Q22.**Write a code to check if the element \"banana\" is in the tuple ('apple','orange','banana')."
      ],
      "metadata": {
        "id": "is9rTOW5IicV"
      }
    },
    {
      "cell_type": "code",
      "source": [
        "tuple5=('apple','orange','banana')\n",
        "'banana' in tuple5"
      ],
      "metadata": {
        "colab": {
          "base_uri": "https://localhost:8080/"
        },
        "outputId": "00fd6ed5-0be7-4edc-9455-b7b13d3be517",
        "id": "vAyAlt1FIpe_"
      },
      "execution_count": null,
      "outputs": [
        {
          "output_type": "execute_result",
          "data": {
            "text/plain": [
              "True"
            ]
          },
          "metadata": {},
          "execution_count": 18
        }
      ]
    },
    {
      "cell_type": "markdown",
      "source": [
        "**Q23.**Write a code to create a set with element 1,2,3,4,5 and print it."
      ],
      "metadata": {
        "id": "6vhWW2v_IvLw"
      }
    },
    {
      "cell_type": "code",
      "source": [
        "set1={1,2,3,4,5}\n",
        "print(set1)"
      ],
      "metadata": {
        "colab": {
          "base_uri": "https://localhost:8080/"
        },
        "outputId": "34dc79de-91bb-44b3-a4f4-763fb20fb882",
        "id": "Dv_XUz48I31A"
      },
      "execution_count": null,
      "outputs": [
        {
          "output_type": "stream",
          "name": "stdout",
          "text": [
            "{1, 2, 3, 4, 5}\n"
          ]
        }
      ]
    },
    {
      "cell_type": "markdown",
      "source": [
        "**Q24.**Write a code to add the element 6 to the set{1,2,3,4}."
      ],
      "metadata": {
        "id": "wQh8cnffI-Ny"
      }
    },
    {
      "cell_type": "code",
      "source": [
        "set2={1,2,3,4,}\n",
        "print(set2)\n",
        "set2.add(6)\n",
        "print(set2)"
      ],
      "metadata": {
        "colab": {
          "base_uri": "https://localhost:8080/"
        },
        "outputId": "89393018-5571-4eea-cbe3-015a5c9c2d13",
        "id": "AM7ppe-BJC5A"
      },
      "execution_count": null,
      "outputs": [
        {
          "output_type": "stream",
          "name": "stdout",
          "text": [
            "{1, 2, 3, 4}\n",
            "{1, 2, 3, 4, 6}\n"
          ]
        }
      ]
    }
  ]
}